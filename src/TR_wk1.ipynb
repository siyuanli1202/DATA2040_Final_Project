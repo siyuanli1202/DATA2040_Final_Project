{
  "nbformat": 4,
  "nbformat_minor": 0,
  "metadata": {
    "colab": {
      "name": "Demo_SY.ipynb",
      "provenance": [],
      "collapsed_sections": [],
      "toc_visible": true,
      "machine_shape": "hm"
    },
    "kernelspec": {
      "display_name": "Python 3",
      "language": "python",
      "name": "python3"
    },
    "language_info": {
      "codemirror_mode": {
        "name": "ipython",
        "version": 3
      },
      "file_extension": ".py",
      "mimetype": "text/x-python",
      "name": "python",
      "nbconvert_exporter": "python",
      "pygments_lexer": "ipython3",
      "version": "3.7.8"
    }
  },
  "cells": [
    {
      "cell_type": "code",
      "metadata": {
        "id": "4Zd-y_frpkE4"
      },
      "source": [
        "import tensorflow as tf\n",
        "import pandas as pd\n",
        "import numpy as np\n",
        "import scipy.io\n",
        "import PIL"
      ],
      "execution_count": null,
      "outputs": []
    },
    {
      "cell_type": "code",
      "metadata": {
        "colab": {
          "base_uri": "https://localhost:8080/"
        },
        "id": "QNclZjplqVM0",
        "outputId": "56e43cfa-73f8-4b19-a722-c147fd952399"
      },
      "source": [
        "from google.colab import drive\n",
        "drive.mount('/content/drive')"
      ],
      "execution_count": null,
      "outputs": [
        {
          "output_type": "stream",
          "text": [
            "Mounted at /content/drive\n"
          ],
          "name": "stdout"
        }
      ]
    },
    {
      "cell_type": "code",
      "metadata": {
        "id": "c1gi0236pkE6"
      },
      "source": [
        "home_path = \"/content/drive/Shareddrives/Data2040FinalProj/data/IIIT5K/\"\n",
        "train_label_path = home_path + \"traindata.mat\"\n",
        "test_label_path = home_path + \"testdata.mat\"\n",
        "train_image_path = home_path + \"train/\"\n",
        "test_image_path = home_path + \"test/\""
      ],
      "execution_count": null,
      "outputs": []
    },
    {
      "cell_type": "code",
      "metadata": {
        "id": "_QArvG8QpkE6"
      },
      "source": [
        "train_label = scipy.io.loadmat(train_label_path)"
      ],
      "execution_count": null,
      "outputs": []
    },
    {
      "cell_type": "code",
      "metadata": {
        "colab": {
          "base_uri": "https://localhost:8080/",
          "height": 34
        },
        "id": "tiuC1GxdpkE6",
        "outputId": "be25368d-4296-4492-9e3a-b45e87309abe"
      },
      "source": [
        "image_1998 =  PIL.Image.open(home_path + train_label['traindata'][0][144][0][0])\n",
        "image_1998"
      ],
      "execution_count": null,
      "outputs": [
        {
          "output_type": "execute_result",
          "data": {
            "image/png": "[encoded data removed]",
            "text/plain": [
              "<PIL.PngImagePlugin.PngImageFile image mode=RGB size=15x13 at 0x7F00BFD8F910>"
            ]
          },
          "metadata": {
            "tags": []
          },
          "execution_count": 39
        }
      ]
    },
    {
      "cell_type": "code",
      "metadata": {
        "colab": {
          "base_uri": "https://localhost:8080/"
        },
        "id": "dwi9ruHzpkE7",
        "outputId": "52eb678c-9a32-4343-dfe1-86ffb1c24e81"
      },
      "source": [
        "train_label['traindata'][0][1998][2]"
      ],
      "execution_count": null,
      "outputs": [
        {
          "output_type": "execute_result",
          "data": {
            "text/plain": [
              "array([[array(['GREAT'], dtype='<U5'), array(['019901'], dtype='<U6'),\n",
              "        array(['112009'], dtype='<U6'), array(['1472'], dtype='<U4'),\n",
              "        array(['16'], dtype='<U2'), array(['226'], dtype='<U3'),\n",
              "        array(['25'], dtype='<U2'), array(['3061'], dtype='<U4'),\n",
              "        array(['360'], dtype='<U3'), array(['372SIGN'], dtype='<U7'),\n",
              "        array(['3A'], dtype='<U2'), array(['53'], dtype='<U2'),\n",
              "        array(['ALL'], dtype='<U3'), array(['ASHLEY'], dtype='<U6'),\n",
              "        array(['BERGMAN'], dtype='<U7'),\n",
              "        array(['BILLBOARDS'], dtype='<U10'),\n",
              "        array(['BUDDY'], dtype='<U5'), array(['CAN'], dtype='<U3'),\n",
              "        array(['CERTAINTY'], dtype='<U9'), array(['CITY'], dtype='<U4'),\n",
              "        array(['CLOSE'], dtype='<U5'), array(['COP'], dtype='<U3'),\n",
              "        array(['COPS'], dtype='<U4'), array(['COURT'], dtype='<U5'),\n",
              "        array(['CRAWLING'], dtype='<U8'), array(['DANGER'], dtype='<U6'),\n",
              "        array(['DECEMBER'], dtype='<U8'),\n",
              "        array(['DEPOSIT'], dtype='<U7'), array(['DOWNLEY'], dtype='<U7'),\n",
              "        array(['ECO'], dtype='<U3'),\n",
              "        array(['EFFECTIVELY'], dtype='<U11'),\n",
              "        array(['FEATURED'], dtype='<U8'), array(['FIRE'], dtype='<U4'),\n",
              "        array(['FRAUD'], dtype='<U5'), array(['GAS'], dtype='<U3'),\n",
              "        array(['GO'], dtype='<U2'), array(['HAWES'], dtype='<U5'),\n",
              "        array(['HEFNER'], dtype='<U6'), array(['HELT'], dtype='<U4'),\n",
              "        array(['HOSTING'], dtype='<U7'), array(['INGHAM'], dtype='<U6'),\n",
              "        array(['INTRODUCING'], dtype='<U11'),\n",
              "        array(['IPAD'], dtype='<U4'), array(['ISLAND'], dtype='<U6'),\n",
              "        array(['KEEP'], dtype='<U4'), array(['LACKSON'], dtype='<U7'),\n",
              "        array(['LIFES'], dtype='<U5'),\n",
              "        array(['MANCHURIAN'], dtype='<U10'),\n",
              "        array(['MANILA'], dtype='<U6'), array(['MAYOR'], dtype='<U5')]],\n",
              "      dtype=object)"
            ]
          },
          "metadata": {
            "tags": []
          },
          "execution_count": 16
        }
      ]
    },
    {
      "cell_type": "code",
      "metadata": {
        "id": "S_VkWznkpkE7"
      },
      "source": [
        "char_label = scipy.io.loadmat(home_path + '/trainCharBound.mat')"
      ],
      "execution_count": null,
      "outputs": []
    },
    {
      "cell_type": "code",
      "metadata": {
        "colab": {
          "base_uri": "https://localhost:8080/"
        },
        "id": "0Qvv9cFkpkE7",
        "outputId": "7c33db73-870d-47f9-aebe-a67f3b7c393d"
      },
      "source": [
        " char_label['trainCharBound'][0][1998]"
      ],
      "execution_count": null,
      "outputs": [
        {
          "output_type": "execute_result",
          "data": {
            "text/plain": [
              "(array(['train/999_4.png'], dtype='<U15'), array(['Great'], dtype='<U5'), array([[ 6.,  3., 28., 34.],\n",
              "       [34.,  8., 14., 29.],\n",
              "       [50., 10., 22., 27.],\n",
              "       [74., 10., 22., 27.],\n",
              "       [97.,  5., 15., 32.]], dtype=float32))"
            ]
          },
          "metadata": {
            "tags": []
          },
          "execution_count": 18
        }
      ]
    },
    {
      "cell_type": "code",
      "metadata": {
        "id": "3sCVAMgVpkE8"
      },
      "source": [
        ""
      ],
      "execution_count": null,
      "outputs": []
    },
    {
      "cell_type": "markdown",
      "metadata": {
        "id": "xlcawbj9yVrw"
      },
      "source": [
        "## EAST Model Implememtation:"
      ]
    },
    {
      "cell_type": "code",
      "metadata": {
        "colab": {
          "base_uri": "https://localhost:8080/"
        },
        "id": "DzzrXoQ03L7Z",
        "outputId": "fdcf6e21-31f0-4ff6-fc8c-6ede3e35877d"
      },
      "source": [
        "!sudo apt install tesseract-ocr\n",
        "!pip install pytesseract"
      ],
      "execution_count": null,
      "outputs": [
        {
          "output_type": "stream",
          "text": [
            "Reading package lists... Done\n",
            "Building dependency tree       \n",
            "Reading state information... Done\n",
            "tesseract-ocr is already the newest version (4.00~git2288-10f4998a-2).\n",
            "0 upgraded, 0 newly installed, 0 to remove and 30 not upgraded.\n",
            "Requirement already satisfied: pytesseract in /usr/local/lib/python3.7/dist-packages (0.3.7)\n",
            "Requirement already satisfied: Pillow in /usr/local/lib/python3.7/dist-packages (from pytesseract) (7.1.2)\n"
          ],
          "name": "stdout"
        }
      ]
    },
    {
      "cell_type": "code",
      "metadata": {
        "id": "JxRU1RMTynH1"
      },
      "source": [
        "##Loading the necessary packages \n",
        "import numpy as np\n",
        "import cv2\n",
        "from imutils.object_detection import non_max_suppression\n",
        "import pytesseract\n",
        "from matplotlib import pyplot as plt\n",
        "import os"
      ],
      "execution_count": null,
      "outputs": []
    },
    {
      "cell_type": "code",
      "metadata": {
        "colab": {
          "base_uri": "https://localhost:8080/"
        },
        "id": "N_Q-LQA-i7oi",
        "outputId": "c59723fe-c4ef-48f0-da26-03230be1fe4b"
      },
      "source": [
        ""
      ],
      "execution_count": null,
      "outputs": [
        {
          "output_type": "stream",
          "text": [
            "/content/drive/Shareddrives/Data2040FinalProj/data/IIIT5K/train/\n"
          ],
          "name": "stdout"
        }
      ]
    },
    {
      "cell_type": "code",
      "metadata": {
        "id": "FrbPEpOXy1ck"
      },
      "source": [
        "from imutils import paths\n",
        "\n",
        "data = []\n",
        "\n",
        "#TODO: Grab list of image paths using paths.list_images\n",
        "imagePaths = paths.list_images(train_image_path[:100])\n",
        "\n",
        "for imagePath in imagePaths:\n",
        "  image = cv2.imread(imagePath)\n",
        "  #Saving a original image and shape\n",
        "  orig = image.copy()\n",
        "  (origH, origW) = image.shape[:2]\n",
        "\n",
        "  # set the new height and width to default 320 by using args #dictionary.  \n",
        "  (newW, newH) = (32, 32 )\n",
        "\n",
        "  #Calculate the ratio between original and new image for both height and weight. \n",
        "  #This ratio will be used to translate bounding box location on the original image. \n",
        "  rW = origW / float(newW)\n",
        "  rH = origH / float(newH)\n",
        "\n",
        "  # resize the original image to new dimensions\n",
        "  image = cv2.resize(image, (newW, newH))\n",
        "  image = cv2.fastNlMeansDenoisingColored(image,None,10,10,7,21)\n",
        "  (H, W) = image.shape[:2]\n",
        "\n",
        "  # construct a blob from the image to forward pass it to EAST model\n",
        "  blob = cv2.dnn.blobFromImage(image, 1.0, (W, H),\n",
        "    (123.68, 116.78, 103.94), swapRB=True, crop=False)\n",
        "\n",
        "  data.append(blob)"
      ],
      "execution_count": null,
      "outputs": []
    },
    {
      "cell_type": "markdown",
      "metadata": {
        "id": "NL2HHH2j2A3E"
      },
      "source": [
        "## EAST Model"
      ]
    },
    {
      "cell_type": "code",
      "metadata": {
        "id": "sinRzwBB1cFS"
      },
      "source": [
        "# load the pre-trained EAST model for text detection \n",
        "east_path = \"/content/drive/Shareddrives/Data2040FinalProj/EAST_model/frozen_east_text_detection.pb\"\n",
        "net = cv2.dnn.readNet(east_path)\n",
        "# We would like to get two outputs from the EAST model. \n",
        "#1. Probabilty scores for the region whether that contains text or not. \n",
        "#2. Geometry of the text -- Coordinates of the bounding box detecting a text\n",
        "# The following two layer need to pulled from EAST model for achieving this. \n",
        "layerNames = [\n",
        "\t\"feature_fusion/Conv_7/Sigmoid\",\n",
        "\t\"feature_fusion/concat_3\"]\n",
        "\n",
        "net.setInput(blob)\n",
        "(scores, geometry) = net.forward(layerNames)\n",
        "\n",
        "## Returns a bounding box and probability score if it is more than minimum confidence\n",
        "def predictions(prob_score, geo):\n",
        "\t(numR, numC) = prob_score.shape[2:4]\n",
        "\tboxes = []\n",
        "\tconfidence_val = []\n",
        "\n",
        "\t# loop over rows\n",
        "\tfor y in range(0, numR):\n",
        "\t\tscoresData = prob_score[0, 0, y]\n",
        "\t\tx0 = geo[0, 0, y]\n",
        "\t\tx1 = geo[0, 1, y]\n",
        "\t\tx2 = geo[0, 2, y]\n",
        "\t\tx3 = geo[0, 3, y]\n",
        "\t\tanglesData = geo[0, 4, y]\n",
        "\n",
        "\t\t# loop over the number of columns\n",
        "\t\tfor i in range(0, numC):\n",
        "\t\t\tif scoresData[i] < 0.5:\n",
        "\t\t\t\tcontinue\n",
        "\n",
        "\t\t\t(offX, offY) = (i * 4.0, y * 4.0)\n",
        "\n",
        "\t\t\t# extracting the rotation angle for the prediction and computing the sine and cosine\n",
        "\t\t\tangle = anglesData[i]\n",
        "\t\t\tcos = np.cos(angle)\n",
        "\t\t\tsin = np.sin(angle)\n",
        "\n",
        "\t\t\t# using the geo volume to get the dimensions of the bounding box\n",
        "\t\t\th = x0[i] + x2[i]\n",
        "\t\t\tw = x1[i] + x3[i]\n",
        "\n",
        "\t\t\t# compute start and end for the text pred bbox\n",
        "\t\t\tendX = int(offX + (cos * x1[i]) + (sin * x2[i]))\n",
        "\t\t\tendY = int(offY - (sin * x1[i]) + (cos * x2[i]))\n",
        "\t\t\tstartX = int(endX - w)\n",
        "\t\t\tstartY = int(endY - h)\n",
        "\n",
        "\t\t\tboxes.append((startX, startY, endX, endY))\n",
        "\t\t\tconfidence_val.append(scoresData[i])\n",
        "\n",
        "\t# return bounding boxes and associated confidence_val\n",
        "\treturn (boxes, confidence_val)"
      ],
      "execution_count": null,
      "outputs": []
    },
    {
      "cell_type": "code",
      "metadata": {
        "id": "zimwRz6J8kjY"
      },
      "source": [
        "# Find predictions and  apply non-maxima suppression\n",
        "(boxes, confidence_val) = predictions(scores, geometry)\n",
        "boxes = non_max_suppression(np.array(boxes), probs=confidence_val)"
      ],
      "execution_count": null,
      "outputs": []
    },
    {
      "cell_type": "code",
      "metadata": {
        "id": "tav_nqxNB-i2"
      },
      "source": [
        "##Text Detection and Recognition \n",
        "\n",
        "# initialize the list of results\n",
        "results = []\n",
        "\n",
        "# loop over the bounding boxes to find the coordinate of bounding boxes\n",
        "for (startX, startY, endX, endY) in boxes:\n",
        "\t# scale the coordinates based on the respective ratios in order to reflect bounding box on the original image\n",
        "\tstartX = int(startX * rW)\n",
        "\tstartY = int(startY * rH)\n",
        "\tendX = int(endX * rW)\n",
        "\tendY = int(endY * rH)\n",
        "\n",
        "\t#extract the region of interest\n",
        "\tr = orig[startY:endY, startX:endX]\n",
        "\n",
        "\t#configuration setting to convert image to string.  \n",
        "\tconfiguration = (\"-l eng --oem 1 --psm 8\")\n",
        "    ##This will recognize the text from the image of bounding box\n",
        "\ttext = pytesseract.image_to_string(r, config=configuration)\n",
        "\n",
        "\t# append bbox coordinate and associated text to the list of results \n",
        "\tresults.append(((startX, startY, endX, endY), text))"
      ],
      "execution_count": null,
      "outputs": []
    },
    {
      "cell_type": "code",
      "metadata": {
        "colab": {
          "base_uri": "https://localhost:8080/"
        },
        "id": "O9JHFNZ4bWV8",
        "outputId": "60b3f7ea-640c-4678-c7b5-9220bbf8fa0b"
      },
      "source": [
        "print(results)"
      ],
      "execution_count": null,
      "outputs": [
        {
          "output_type": "stream",
          "text": [
            "[]\n"
          ],
          "name": "stdout"
        }
      ]
    },
    {
      "cell_type": "code",
      "metadata": {
        "colab": {
          "base_uri": "https://localhost:8080/",
          "height": 200
        },
        "id": "0QumiM_BB_yp",
        "outputId": "25516727-8556-472c-8b80-5e9531e52da8"
      },
      "source": [
        "#Display the image with bounding box and recognized text\n",
        "orig_image = orig.copy()\n",
        "\n",
        "# Moving over the results and display on the image\n",
        "for ((start_X, start_Y, end_X, end_Y), text) in results:\n",
        "\t# display the text detected by Tesseract\n",
        "\tprint(\"{}\\n\".format(text))\n",
        "\n",
        "\t# Displaying text\n",
        "\ttext = \"\".join([x if ord(x) < 224 else \"\" for x in text]).strip()\n",
        "\tcv2.rectangle(orig_image, (start_X, start_Y), (end_X, end_Y),\n",
        "\t\t(0, 0, 255), 2)\n",
        "\tcv2.putText(orig_image, text, (start_X, start_Y - 30),\n",
        "\t\tcv2.FONT_HERSHEY_SIMPLEX, 0.7,(0,0, 255), 2)\n",
        "\n",
        "plt.imshow(orig_image)\n",
        "plt.title('Output')\n",
        "plt.show()"
      ],
      "execution_count": null,
      "outputs": [
        {
          "output_type": "stream",
          "text": [
            " TANGE!\n",
            "\f\n",
            "\n"
          ],
          "name": "stdout"
        },
        {
          "output_type": "display_data",
          "data": {
            "image/png": "[encoded data removed]",
            "text/plain": [
              "<Figure size 432x288 with 1 Axes>"
            ]
          },
          "metadata": {
            "tags": [],
            "needs_background": "light"
          }
        }
      ]
    },
    {
      "cell_type": "markdown",
      "metadata": {
        "id": "j68lk1uKfRX5"
      },
      "source": [
        "## Noise reduction:"
      ]
    },
    {
      "cell_type": "code",
      "metadata": {
        "colab": {
          "base_uri": "https://localhost:8080/",
          "height": 203
        },
        "id": "9OZwKfnOYDEJ",
        "outputId": "363da7ec-30eb-484f-a73e-926c5ec93455"
      },
      "source": [
        "\n",
        "\n",
        "import numpy as np\n",
        "import cv2\n",
        "from matplotlib import pyplot as plt\n",
        "\n",
        "\n",
        "image = cv2.imread(home_path + train_label['traindata'][0][1998][0][0])\n",
        "# orig = image.copy()\n",
        "# (origH, origW) = image.shape[:2]\n",
        "\n",
        "# # # set the new height and width to default 320 by using args #dictionary.  \n",
        "(newW, newH) = (128, 128 )\n",
        "\n",
        "# # #Calculate the ratio between original and new image for both height and weight. \n",
        "# # #This ratio will be used to translate bounding box location on the original image. \n",
        "# rW = origW / float(newW)\n",
        "# rH = origH / float(newH)\n",
        "\n",
        "# resize the original image to new dimensions\n",
        "newimage = cv2.resize(image, (newW, newH))\n",
        "newimage = cv2.fastNlMeansDenoisingColored(newimage,None,10,10,7,21)\n",
        "# (H, W) = image.shape[:2]\n",
        "\n",
        "# # # construct a blob from the image to forward pass it to EAST model\n",
        "# blob = cv2.dnn.blobFromImage(image, 1.0, (W, H),\n",
        "#    (123.68, 116.78, 103.94), swapRB=True, crop=False)\n",
        "\n",
        "\n",
        "\n",
        "dst = cv2.fastNlMeansDenoisingColored(image,None,10,10,7,21)\n",
        "plt.subplot(121),plt.imshow(image)\n",
        "plt.subplot(122),plt.imshow(newimage)\n",
        "#plt.subplot(122),plt.imshow(blob[0].transpose())\n",
        "plt.show()\n",
        "\n"
      ],
      "execution_count": null,
      "outputs": [
        {
          "output_type": "display_data",
          "data": {
            "image/png": "[encoded data removed]",
            "text/plain": [
              "<Figure size 432x288 with 2 Axes>"
            ]
          },
          "metadata": {
            "tags": []
          }
        }
      ]
    },
    {
      "cell_type": "markdown",
      "metadata": {
        "id": "tfiMh_D6mZuH"
      },
      "source": [
        "## Baseline Prediction EAST:"
      ]
    },
    {
      "cell_type": "code",
      "metadata": {
        "id": "Jx31j2QtmeTs"
      },
      "source": [
        "imagePath =(home_path + train_label['traindata'][0][77][0][0])\n",
        "\n",
        "image = cv2.imread(imagePath)\n",
        "#Saving a original image and shape\n",
        "orig = image.copy()\n",
        "(origH, origW) = image.shape[:2]\n",
        "\n",
        "# set the new height and width to default 320 by using args #dictionary.  \n",
        "(newW, newH) = (64, 64 )\n",
        "\n",
        "#Calculate the ratio between original and new image for both height and weight. \n",
        "#This ratio will be used to translate bounding box location on the original image. \n",
        "rW = origW / float(newW)\n",
        "rH = origH / float(newH)\n",
        "\n",
        "# resize the original image to new dimensions\n",
        "image = cv2.resize(image, (newW, newH))\n",
        "image = cv2.fastNlMeansDenoisingColored(image,None,10,10,7,21)\n",
        "(H, W) = image.shape[:2]\n",
        "\n",
        "# construct a blob from the image to forward pass it to EAST model\n",
        "blob = cv2.dnn.blobFromImage(image, 1.0, (W, H),\n",
        "(123.68, 116.78, 103.94), swapRB=True, crop=False)\n"
      ],
      "execution_count": null,
      "outputs": []
    },
    {
      "cell_type": "code",
      "metadata": {
        "id": "taB0h8VTmmzs"
      },
      "source": [
        "# load the pre-trained EAST model for text detection \n",
        "east_path = \"/content/drive/Shareddrives/Data2040FinalProj/EAST_model/frozen_east_text_detection.pb\"\n",
        "net = cv2.dnn.readNet(east_path)\n",
        "# We would like to get two outputs from the EAST model. \n",
        "#1. Probabilty scores for the region whether that contains text or not. \n",
        "#2. Geometry of the text -- Coordinates of the bounding box detecting a text\n",
        "# The following two layer need to pulled from EAST model for achieving this. \n",
        "layerNames = [\n",
        "\t\"feature_fusion/Conv_7/Sigmoid\",\n",
        "\t\"feature_fusion/concat_3\"]\n",
        "\n",
        "net.setInput(blob)\n",
        "(scores, geometry) = net.forward(layerNames)\n",
        "\n",
        "## Returns a bounding box and probability score if it is more than minimum confidence\n",
        "def predictions(prob_score, geo):\n",
        "\t(numR, numC) = prob_score.shape[2:4]\n",
        "\tboxes = []\n",
        "\tconfidence_val = []\n",
        "\n",
        "\t# loop over rows\n",
        "\tfor y in range(0, numR):\n",
        "\t\tscoresData = prob_score[0, 0, y]\n",
        "\t\tx0 = geo[0, 0, y]\n",
        "\t\tx1 = geo[0, 1, y]\n",
        "\t\tx2 = geo[0, 2, y]\n",
        "\t\tx3 = geo[0, 3, y]\n",
        "\t\tanglesData = geo[0, 4, y]\n",
        "\n",
        "\t\t# loop over the number of columns\n",
        "\t\tfor i in range(0, numC):\n",
        "\t\t\tif scoresData[i] < 0.5:\n",
        "\t\t\t\tcontinue\n",
        "\n",
        "\t\t\t(offX, offY) = (i * 4.0, y * 4.0)\n",
        "\n",
        "\t\t\t# extracting the rotation angle for the prediction and computing the sine and cosine\n",
        "\t\t\tangle = anglesData[i]\n",
        "\t\t\tcos = np.cos(angle)\n",
        "\t\t\tsin = np.sin(angle)\n",
        "\n",
        "\t\t\t# using the geo volume to get the dimensions of the bounding box\n",
        "\t\t\th = x0[i] + x2[i]\n",
        "\t\t\tw = x1[i] + x3[i]\n",
        "\n",
        "\t\t\t# compute start and end for the text pred bbox\n",
        "\t\t\tendX = int(offX + (cos * x1[i]) + (sin * x2[i]))\n",
        "\t\t\tendY = int(offY - (sin * x1[i]) + (cos * x2[i]))\n",
        "\t\t\tstartX = int(endX - w)\n",
        "\t\t\tstartY = int(endY - h)\n",
        "\n",
        "\t\t\tboxes.append((startX, startY, endX, endY))\n",
        "\t\t\tconfidence_val.append(scoresData[i])\n",
        "\n",
        "\t# return bounding boxes and associated confidence_val\n",
        "\treturn (boxes, confidence_val)\n"
      ],
      "execution_count": null,
      "outputs": []
    },
    {
      "cell_type": "code",
      "metadata": {
        "id": "H1dw_d_CmtKx"
      },
      "source": [
        "# Find predictions and  apply non-maxima suppression\n",
        "(boxes, confidence_val) = predictions(scores, geometry)\n",
        "boxes = non_max_suppression(np.array(boxes), probs=confidence_val)\n",
        "\n",
        "##Text Detection and Recognition \n",
        "\n",
        "# initialize the list of results\n",
        "results = []\n",
        "\n",
        "# loop over the bounding boxes to find the coordinate of bounding boxes\n",
        "for (startX, startY, endX, endY) in boxes:\n",
        "\t# scale the coordinates based on the respective ratios in order to reflect bounding box on the original image\n",
        "\tstartX = int(startX * rW)\n",
        "\tstartY = int(startY * rH)\n",
        "\tendX = int(endX * rW)\n",
        "\tendY = int(endY * rH)\n",
        "\n",
        "\t#extract the region of interest\n",
        "\tr = orig[startY:endY, startX:endX]\n",
        "\n",
        "\t#configuration setting to convert image to string.  \n",
        "\tconfiguration = (\"-l eng --oem 1 --psm 8\")\n",
        "    ##This will recognize the text from the image of bounding box\n",
        "\ttext = pytesseract.image_to_string(r, config=configuration)\n",
        "\n",
        "\t# append bbox coordinate and associated text to the list of results \n",
        "\tresults.append(((startX, startY, endX, endY), text))"
      ],
      "execution_count": null,
      "outputs": []
    },
    {
      "cell_type": "code",
      "metadata": {
        "colab": {
          "base_uri": "https://localhost:8080/",
          "height": 241
        },
        "id": "snQYxg-hmzZq",
        "outputId": "6cdc0dce-5796-4f72-a454-33b60112ac2a"
      },
      "source": [
        "#Display the image with bounding box and recognized text\n",
        "orig_image = orig.copy()\n",
        "\n",
        "# Moving over the results and display on the image\n",
        "for ((start_X, start_Y, end_X, end_Y), text) in results:\n",
        "\t# display the text detected by Tesseract\n",
        "\tprint(\"{}\\n\".format(text))\n",
        "\n",
        "\t# Displaying text\n",
        "\ttext = \"\".join([x if ord(x) < 224 else \"\" for x in text]).strip()\n",
        "\tcv2.rectangle(orig_image, (start_X, start_Y), (end_X, end_Y),\n",
        "\t\t(0, 0, 255), 2)\n",
        "\tcv2.putText(orig_image, text, (start_X, start_Y - 30),\n",
        "\t\tcv2.FONT_HERSHEY_SIMPLEX, 0.7,(0,0, 255), 2)\n",
        "\n",
        "plt.imshow(orig_image)\n",
        "plt.title('Output')\n",
        "plt.show()"
      ],
      "execution_count": null,
      "outputs": [
        {
          "output_type": "stream",
          "text": [
            "Smile_\n",
            "\f\n",
            "\n"
          ],
          "name": "stdout"
        },
        {
          "output_type": "display_data",
          "data": {
            "image/png": "[encoded data removed]",
            "text/plain": [
              "<Figure size 432x288 with 1 Axes>"
            ]
          },
          "metadata": {
            "tags": [],
            "needs_background": "light"
          }
        }
      ]
    },
    {
      "cell_type": "code",
      "metadata": {
        "id": "-Yq9etA5nCrD"
      },
      "source": [
        ""
      ],
      "execution_count": null,
      "outputs": []
    }
  ]
}